{
 "cells": [
  {
   "cell_type": "code",
   "execution_count": 1,
   "metadata": {
    "collapsed": false
   },
   "outputs": [],
   "source": [
    "from pacific import *\n",
    "import datetime\n",
    "import pytz"
   ]
  },
  {
   "cell_type": "code",
   "execution_count": 2,
   "metadata": {
    "collapsed": false,
    "scrolled": true
   },
   "outputs": [
    {
     "name": "stdout",
     "output_type": "stream",
     "text": [
      "auth code4/0rU7NGoiTBf6tFFS9TsFm1l13kKtCLborcM0cbw7_WM\n"
     ]
    },
    {
     "name": "stderr",
     "output_type": "stream",
     "text": [
      "previous week: Marty Navaroli, 10\n",
      "previous week: Frederick Matsuda, 25\n",
      "WEEKEND INELIGIBLE: Frederick Matsuda\n",
      "previous week: Praween, 10\n",
      "WEEKEND INELIGIBLE: Praween\n",
      "previous week: Lindsay Lowry, 10\n",
      "previous week: Darcy Barron, 10\n",
      "Josquin Errard not found in handoff\n",
      "Yuji Chinone not found in handoff\n",
      "previous week: Tucker Elleflot, 10\n",
      "Aritoki Suzuki not found in handoff\n",
      "KaoriHattori not found in handoff\n",
      "previous week: GregJaehnig, 10\n",
      "previous week: Oliver Jeong, 25\n",
      "WEEKEND INELIGIBLE: Oliver Jeong\n",
      "Nathan Whitehorn not found in handoff\n",
      "previous week: John Groh, 10\n",
      "previous week: Kaja Rotermund, 10\n",
      "previous week: grant.teply, 25\n",
      "WEEKEND INELIGIBLE: grant.teply\n",
      "Christian Reichardt not found in handoff\n"
     ]
    }
   ],
   "source": [
    "start = pytz.timezone(\"America/Los_Angeles\").localize(datetime.datetime(year=2016,day=7,hour=10,month=9))\n",
    "sch = init_schedule(start)"
   ]
  },
  {
   "cell_type": "code",
   "execution_count": 3,
   "metadata": {
    "collapsed": false
   },
   "outputs": [],
   "source": [
    "sch.schedule()"
   ]
  },
  {
   "cell_type": "code",
   "execution_count": 4,
   "metadata": {
    "collapsed": false,
    "scrolled": true
   },
   "outputs": [],
   "source": [
    "sch.publish()"
   ]
  },
  {
   "cell_type": "code",
   "execution_count": 6,
   "metadata": {
    "collapsed": true
   },
   "outputs": [],
   "source": [
    "sch.remind_all()"
   ]
  },
  {
   "cell_type": "code",
   "execution_count": null,
   "metadata": {
    "collapsed": true
   },
   "outputs": [],
   "source": []
  },
  {
   "cell_type": "code",
   "execution_count": 5,
   "metadata": {
    "collapsed": false
   },
   "outputs": [],
   "source": [
    "me = None\n",
    "for obs in sch.observers:\n",
    "    if obs.email=='avzahn06@gmail.com':\n",
    "        me = obs"
   ]
  },
  {
   "cell_type": "code",
   "execution_count": 5,
   "metadata": {
    "collapsed": false
   },
   "outputs": [
    {
     "data": {
      "text/plain": [
       "<email.mime.text.MIMEText instance at 0x7ff39d6b3440>"
      ]
     },
     "execution_count": 5,
     "metadata": {},
     "output_type": "execute_result"
    }
   ],
   "source": [
    "me.get_reminder()"
   ]
  },
  {
   "cell_type": "code",
   "execution_count": 6,
   "metadata": {
    "collapsed": false
   },
   "outputs": [
    {
     "name": "stdout",
     "output_type": "stream",
     "text": [
      "Wed 07 10:00 AM - 02:00 PM PDT :: <font color='green'>Available</font>\n",
      "Wed 07 02:00 PM - 06:00 PM PDT :: <font color='green'>Available</font>\n",
      "Wed 07 06:00 PM - 10:00 PM PDT :: <font color='green'>Available</font>\n",
      "Thu 08 10:00 AM - 02:00 PM PDT :: <font color='green'>Available</font>\n",
      "Thu 08 02:00 PM - 06:00 PM PDT :: <font color='green'>Available</font>\n",
      "Thu 08 06:00 PM - 10:00 PM PDT :: <font color='green'>Available</font>\n",
      "Fri 09 10:00 AM - 02:00 PM PDT :: <font color='green'>Available</font>\n",
      "Fri 09 02:00 PM - 06:00 PM PDT :: <font color='green'>Available</font>\n",
      "Fri 09 06:00 PM - 10:00 PM PDT :: <font color='green'>Available</font>\n",
      "Sat 10 10:00 AM - 02:00 PM PDT :: <font color='green'>Available</font>\n",
      "Sat 10 02:00 PM - 06:00 PM PDT :: <font color='green'>Available</font>\n",
      "Sat 10 06:00 PM - 10:00 PM PDT :: <font color='green'>Available</font>\n",
      "Sun 11 10:00 AM - 02:00 PM PDT :: <font color='green'>Available</font>\n",
      "Sun 11 02:00 PM - 06:00 PM PDT :: <font color='green'>Available</font>\n",
      "Sun 11 06:00 PM - 10:00 PM PDT :: <font color='green'>Available</font>\n",
      "Mon 12 10:00 AM - 02:00 PM PDT :: <font color='green'>Available</font>\n",
      "Mon 12 02:00 PM - 06:00 PM PDT :: <font color='green'>Available</font>\n",
      "Mon 12 06:00 PM - 10:00 PM PDT :: <font color='green'>Available</font>\n",
      "Tue 13 10:00 AM - 02:00 PM PDT :: <font color='green'>Available</font>\n",
      "Tue 13 02:00 PM - 06:00 PM PDT :: <font color='green'>Available</font>\n",
      "Tue 13 06:00 PM - 10:00 PM PDT :: <font color='green'>Available</font>\n",
      "\n"
     ]
    }
   ],
   "source": [
    "print me.dump_availability()"
   ]
  },
  {
   "cell_type": "code",
   "execution_count": 5,
   "metadata": {
    "collapsed": false
   },
   "outputs": [],
   "source": [
    "me.send_reminder()"
   ]
  },
  {
   "cell_type": "code",
   "execution_count": null,
   "metadata": {
    "collapsed": true
   },
   "outputs": [],
   "source": []
  }
 ],
 "metadata": {
  "kernelspec": {
   "display_name": "Python 2",
   "language": "python",
   "name": "python2"
  },
  "language_info": {
   "codemirror_mode": {
    "name": "ipython",
    "version": 2
   },
   "file_extension": ".py",
   "mimetype": "text/x-python",
   "name": "python",
   "nbconvert_exporter": "python",
   "pygments_lexer": "ipython2",
   "version": "2.7.11"
  }
 },
 "nbformat": 4,
 "nbformat_minor": 0
}
