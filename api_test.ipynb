{
 "cells": [
  {
   "cell_type": "code",
   "execution_count": 2,
   "metadata": {
    "collapsed": false
   },
   "outputs": [],
   "source": [
    "from oauth2client.client import OAuth2WebServerFlow\n",
    "import webbrowser\n",
    "import httplib2\n",
    "from apiclient.discovery import build\n",
    "import gdata.spreadsheets.client\n",
    "\n",
    "import gspread\n",
    "\n",
    "scope = 'https://www.googleapis.com/auth/drive \\\n",
    "https://www.googleapis.com/auth/calendar \\\n",
    "https://spreadsheets.google.com/feeds'\n",
    "\n",
    "\n",
    "def get_service(scope):\n",
    "    \n",
    "    flow = OAuth2WebServerFlow(client_id='629542510716-2rdm5bbfrjg9k97mm00stt5gliv217h8.apps.googleusercontent.com',\n",
    "                           client_secret='_bxlaJdmImQUgu7I1WI_Osoq',\n",
    "                           scope=scope,\n",
    "                           redirect_uri='urn:ietf:wg:oauth:2.0:oob')\n",
    "\n",
    "    auth_uri = flow.step1_get_authorize_url()\n",
    "\n",
    "    webbrowser.open(auth_uri)\n",
    "\n",
    "    code = raw_input('auth code')\n",
    "\n",
    "    credentials = flow.step2_exchange(code)\n",
    "    \n",
    "    #gd_client = gdata.spreadsheets.client.SpreadsheetsClient()\n",
    "    #auth2token = gdata.gauth.OAuth2TokenFromCredentials(credentials)\n",
    "    #gd_client = auth2token.authorize(gd_client)\n",
    "\n",
    "    http = credentials.authorize(httplib2.Http())\n",
    "    \n",
    "    gc = gspread.authorize(credentials)\n",
    "\n",
    "    #return build('calendar', 'v3', http=http), gd_client\n",
    "    return build('calendar', 'v3', http=http), gc"
   ]
  },
  {
   "cell_type": "code",
   "execution_count": 3,
   "metadata": {
    "collapsed": false
   },
   "outputs": [
    {
     "name": "stdout",
     "output_type": "stream",
     "text": [
      "auth code4/qpYZZ0qbpOyrZutUp6b5yYDo_dJQ8qL4F083NUfyYQU\n"
     ]
    }
   ],
   "source": [
    "calendar, sheets = get_service(scope)"
   ]
  },
  {
   "cell_type": "code",
   "execution_count": 31,
   "metadata": {
    "collapsed": false
   },
   "outputs": [],
   "source": [
    "import datetime\n",
    "\n",
    "start = datetime.datetime.now()+ datetime.timedelta(hours=2)\n",
    "end = start + datetime.timedelta(hours=2)"
   ]
  },
  {
   "cell_type": "code",
   "execution_count": 29,
   "metadata": {
    "collapsed": false
   },
   "outputs": [
    {
     "data": {
      "text/plain": [
       "'2015-12-23T13:41:50.469418'"
      ]
     },
     "execution_count": 29,
     "metadata": {},
     "output_type": "execute_result"
    }
   ],
   "source": [
    "start.isoformat()"
   ]
  },
  {
   "cell_type": "code",
   "execution_count": 50,
   "metadata": {
    "collapsed": true
   },
   "outputs": [],
   "source": [
    "def insert(service,name,email,dt_start,dt_stop):\n",
    "\n",
    "    event = {\n",
    "      'start': {\n",
    "        'dateTime': dt_start.isoformat(),\n",
    "        'timeZone': 'America/Los_Angeles',\n",
    "      },\n",
    "      'end': {\n",
    "        'dateTime': dt_stop.isoformat(),\n",
    "        'timeZone': 'America/Los_Angeles',\n",
    "      },\n",
    "      'attendees': [\n",
    "        {'email': email},\n",
    "      ],\n",
    "      'reminders': {\n",
    "        'useDefault': False,\n",
    "        'overrides': [\n",
    "          {'method': 'email', 'minutes': 24 * 60},\n",
    "          {'method': 'email', 'minutes': 10},\n",
    "        ],\n",
    "      },\n",
    "    'description': 'description',\n",
    "    'summary':'summary',\n",
    "    'gadget.title': 'title'\n",
    "    }\n",
    "\n",
    "    event = service.events().insert(calendarId='14i5g7mue5c6637mo0fdo01l60@group.calendar.google.com',sendNotifications=True, body=event).execute()"
   ]
  },
  {
   "cell_type": "code",
   "execution_count": 51,
   "metadata": {
    "collapsed": false
   },
   "outputs": [],
   "source": [
    "insert(service,'asdf','p.siritanasak@gmail.com',start,end)"
   ]
  },
  {
   "cell_type": "code",
   "execution_count": 22,
   "metadata": {
    "collapsed": true
   },
   "outputs": [],
   "source": [
    "availability_id = '1STjLDnzNczsTKd3ZOgaOL9MDHMzzW_y44MQCMza7Zm4'\n",
    "handoff_id = '1e4gizgCjiAnTJnHdzP-5QHE0riIXNXup5PTj2BKOH-s'\n",
    "worksheet_id = 'od6'"
   ]
  },
  {
   "cell_type": "code",
   "execution_count": 78,
   "metadata": {
    "collapsed": false
   },
   "outputs": [],
   "source": [
    "lf = sheets.get_list_feed(availability_id, worksheet_id)"
   ]
  },
  {
   "cell_type": "code",
   "execution_count": 89,
   "metadata": {
    "collapsed": false
   },
   "outputs": [
    {
     "data": {
      "text/plain": [
       "{'fri': '10:00 AM -- 2:00 PM',\n",
       " 'fri_2': '2:00 PM -- 6:00 PM',\n",
       " 'fri_3': '6:00 PM -- 10:00 PM',\n",
       " 'mon': '10:00 AM -- 2:00 PM',\n",
       " 'mon_2': '2:00 PM -- 6:00 PM',\n",
       " 'mon_3': '6:00 PM -- 10:00 PM',\n",
       " 'nameappearingonhandoffreport': 'yes | no | maybe (default yes)',\n",
       " 'sat': '10:00 AM -- 2:00 PM',\n",
       " 'sat_2': '2:00 PM -- 6:00 PM',\n",
       " 'sat_3': '6:00 PM -- 10:00 PM',\n",
       " 'sun': '10:00 AM -- 2:00 PM',\n",
       " 'sun_2': '2:00 PM -- 6:00 PM',\n",
       " 'sun_3': '6:00 PM -- 10:00 PM',\n",
       " 'thu': '10:00 AM -- 2:00 PM',\n",
       " 'thu_2': '2:00 PM -- 6:00 PM',\n",
       " 'thu_3': '6:00 PM -- 10:00 PM',\n",
       " 'tue': '10:00 AM -- 2:00 PM',\n",
       " 'tue_2': '2:00 PM -- 6:00 PM',\n",
       " 'tue_3': '6:00 PM -- 10:00 PM',\n",
       " 'wed': '10:00 AM -- 2:00 PM',\n",
       " 'wed_2': '2:00 PM -- 6:00 PM',\n",
       " 'wed_3': '6:00 PM -- 10:00 PM'}"
      ]
     },
     "execution_count": 89,
     "metadata": {},
     "output_type": "execute_result"
    }
   ],
   "source": [
    "lf.entry[0].to_dict()"
   ]
  },
  {
   "cell_type": "code",
   "execution_count": 3,
   "metadata": {
    "collapsed": true
   },
   "outputs": [],
   "source": [
    "wks = sheets.open(\"Remote_Observing_Availability\").sheet1"
   ]
  },
  {
   "cell_type": "code",
   "execution_count": 4,
   "metadata": {
    "collapsed": false
   },
   "outputs": [],
   "source": [
    "handoff = sheets.open(\"handoff_test_copy\").sheet1"
   ]
  },
  {
   "cell_type": "code",
   "execution_count": 26,
   "metadata": {
    "collapsed": false
   },
   "outputs": [
    {
     "data": {
      "text/plain": [
       "3041"
      ]
     },
     "execution_count": 26,
     "metadata": {},
     "output_type": "execute_result"
    }
   ],
   "source": [
    "len(handoff.col_values(1))"
   ]
  },
  {
   "cell_type": "code",
   "execution_count": 5,
   "metadata": {
    "collapsed": true
   },
   "outputs": [],
   "source": [
    "all_ = handoff.get_all_values()"
   ]
  },
  {
   "cell_type": "code",
   "execution_count": 7,
   "metadata": {
    "collapsed": false
   },
   "outputs": [
    {
     "data": {
      "text/plain": [
       "['1/1/2015 2:02:06',\n",
       " 'kaorihattori',\n",
       " 'https://docs.google.com/a/polarbear.cl/open?id=1oS3XWHKG_uFD7HtzeUs6oHhqntlJO0L8NZvH4t3FZ-I',\n",
       " 'Yes',\n",
       " 'Kuniyoshi Mizukami',\n",
       " '1/1/2015 4:59:00',\n",
       " 'Yes',\n",
       " '',\n",
       " 'khattori@berkeley.edu',\n",
       " 'https://docs.google.com/a/polarbear.cl/open?id=15p9mW0HQlSlc3Wo_OTVmx33V78pq4UoqZSaSGB0PSiE']"
      ]
     },
     "execution_count": 7,
     "metadata": {},
     "output_type": "execute_result"
    }
   ],
   "source": [
    "all_[500]"
   ]
  },
  {
   "cell_type": "code",
   "execution_count": 10,
   "metadata": {
    "collapsed": false
   },
   "outputs": [
    {
     "data": {
      "text/plain": [
       "[['12/28/2015 22:13:40',\n",
       "  'Lindsay Lowry',\n",
       "  'https://docs.google.com/a/polarbear.cl/open?id=1OxBBMGgBQzHfED5x1-Shasu1e-0hitusOqiE2zb2YSs\\n\\nhttps://docs.google.com/a/polarbear.cl/open?id=1EtzQKKvuqxnhhMuFefLy6r3ezoZnqBUj4KT12rYs64I\\n\\nhttps://docs.google.com/a/polarbear.cl/open?id=1HgNJrqTaNmcP10xWmN3N8jLfGRe_-CpGsoOCFVVi4k4',\n",
       "  'Yes',\n",
       "  'John Groh',\n",
       "  '12/29/2015 1:11:00',\n",
       "  'No',\n",
       "  '',\n",
       "  'llowry@ucsd.edu',\n",
       "  'https://docs.google.com/a/polarbear.cl/open?id=1UYe0_923cGSKaHV9xi8SU8NBRM3qjbHKHxkp1JiO-6s'],\n",
       " ['12/29/2015 2:46:47',\n",
       "  'johngroh',\n",
       "  'https://docs.google.com/a/polarbear.cl/open?id=1FZ5qVH8vEKF9MlmgU8X8Rc8i-qI4jKgIKH9svh_w-Ks',\n",
       "  'Yes',\n",
       "  'Satoru',\n",
       "  '12/29/2015 5:39:00',\n",
       "  'No',\n",
       "  'Gcp is down... ',\n",
       "  'john.groh@berkeley.edu',\n",
       "  'https://docs.google.com/a/polarbear.cl/open?id=1JrqBPYgOV_FSs2knz-PGdZMBNskX6baBm5yRG3YuY3g'],\n",
       " ['12/29/2015 6:07:07',\n",
       "  'Satoru Takakura',\n",
       "  'https://docs.google.com/a/polarbear.cl/open?id=1QT8hfVji_YDHAsgn6o3p9eHCvT9-b7t0HHXKylcFR04',\n",
       "  'Yes',\n",
       "  'Yoshiki',\n",
       "  '12/29/2015 9:05:00',\n",
       "  'Yes',\n",
       "  'GCP is down.',\n",
       "  'takakura@post.kek.jp',\n",
       "  'https://docs.google.com/a/polarbear.cl/open?id=1RryJXfHPs1XwRiixbfS8q7rufZ15wCgdPScf5jZjVAg']]"
      ]
     },
     "execution_count": 10,
     "metadata": {},
     "output_type": "execute_result"
    }
   ],
   "source": [
    "all_[-3:]"
   ]
  },
  {
   "cell_type": "code",
   "execution_count": 25,
   "metadata": {
    "collapsed": false
   },
   "outputs": [
    {
     "data": {
      "text/plain": [
       "'UTC'"
      ]
     },
     "execution_count": 25,
     "metadata": {},
     "output_type": "execute_result"
    }
   ],
   "source": [
    "pytz.utc.zone"
   ]
  },
  {
   "cell_type": "code",
   "execution_count": 30,
   "metadata": {
    "collapsed": false
   },
   "outputs": [
    {
     "data": {
      "text/plain": [
       "'America/Los_Angeles'"
      ]
     },
     "execution_count": 30,
     "metadata": {},
     "output_type": "execute_result"
    }
   ],
   "source": [
    "pytz.timezone(\"America/Los_Angeles\").zone"
   ]
  },
  {
   "cell_type": "code",
   "execution_count": 34,
   "metadata": {
    "collapsed": true
   },
   "outputs": [],
   "source": [
    "s = '12/28/2015 21:19:00'\n",
    "\n",
    "#s.split()\n",
    "\n",
    "#fmt = ' //%Y'"
   ]
  },
  {
   "cell_type": "code",
   "execution_count": 57,
   "metadata": {
    "collapsed": false
   },
   "outputs": [],
   "source": [
    "import datetime\n",
    "\n",
    "def zero_pad(s,l=2):\n",
    "    if len(s) != l:\n",
    "        return '0' + s\n",
    "\n",
    "ss = s.split(' ')\n",
    "time = map(int,ss[1].split(':'))\n",
    "date = map(int,ss[0].split('/'))\n",
    "\n",
    "#out = '%s/%s/%s %s:%s:%s' % ( zero_pad(date[0]),zero_pad,zero_pad(time[0]), time[1], time[2])\n",
    "out = datetime.datetime(date[2], date[0], date[1], time[0], time[1], time[2])"
   ]
  },
  {
   "cell_type": "code",
   "execution_count": 59,
   "metadata": {
    "collapsed": false
   },
   "outputs": [
    {
     "data": {
      "text/plain": [
       "'2015-12-28T21:19:00'"
      ]
     },
     "execution_count": 59,
     "metadata": {},
     "output_type": "execute_result"
    }
   ],
   "source": [
    "out.isoformat()"
   ]
  },
  {
   "cell_type": "code",
   "execution_count": 40,
   "metadata": {
    "collapsed": false
   },
   "outputs": [
    {
     "data": {
      "text/plain": [
       "['12', '28', '2015']"
      ]
     },
     "execution_count": 40,
     "metadata": {},
     "output_type": "execute_result"
    }
   ],
   "source": [
    "date"
   ]
  },
  {
   "cell_type": "code",
   "execution_count": 54,
   "metadata": {
    "collapsed": false
   },
   "outputs": [
    {
     "data": {
      "text/plain": [
       "['21', '19', '00']"
      ]
     },
     "execution_count": 54,
     "metadata": {},
     "output_type": "execute_result"
    }
   ],
   "source": [
    "time"
   ]
  },
  {
   "cell_type": "code",
   "execution_count": 62,
   "metadata": {
    "collapsed": false
   },
   "outputs": [
    {
     "data": {
      "text/plain": [
       "0.0"
      ]
     },
     "execution_count": 62,
     "metadata": {},
     "output_type": "execute_result"
    }
   ],
   "source": [
    "(datetime.datetime.now() - datetime.datetime.now()).total_seconds()"
   ]
  },
  {
   "cell_type": "code",
   "execution_count": 1,
   "metadata": {
    "collapsed": false
   },
   "outputs": [
    {
     "name": "stdout",
     "output_type": "stream",
     "text": [
      "auth code4/LFxbptrwG3EKk31kl2smRDoihof59m87U9Iuz1k3R78\n"
     ]
    }
   ],
   "source": [
    "from google_client import *\n",
    "a_names, av, h_names, emails, times = do_spreadsheet_download()"
   ]
  },
  {
   "cell_type": "code",
   "execution_count": 3,
   "metadata": {
    "collapsed": false
   },
   "outputs": [
    {
     "data": {
      "text/plain": [
       "['tuckerelleflot@gmail.com',\n",
       " 'objeong@berkeley.edu',\n",
       " 'tajimao@gmail.com',\n",
       " 't.hamada@astr.tohoku.ac.jp',\n",
       " 'colin.ross.dal@gmail.com',\n",
       " 'dleon@physics.ucsd.edu',\n",
       " '__ngoecknerwald@berkeley.edu',\n",
       " 'lahowe@ucsd.edu',\n",
       " 'haruki.nishino@kek.jp',\n",
       " 'nstebor@gmail.com',\n",
       " 'p.siritanasak@gmail.com',\n",
       " 'i.i.anything25@gmail.com',\n",
       " 'masashi.hazumi@gmail.com',\n",
       " 'kavonkazem@gmail.com',\n",
       " 'ajcukierman@berkeley.edu',\n",
       " 'fugino-takuro-yk@ynu.jp',\n",
       " 'gfabbian@sissa.it',\n",
       " 'colin.ross.dal@gmail.com',\n",
       " 'ajcukierman@berkeley.edu',\n",
       " 'barrondarcy@gmail.com',\n",
       " 'a.ducout@imperial.ac.uk',\n",
       " 'colin.ross.dal@gmail.com',\n",
       " 'yuuko@post.kek.jp',\n",
       " 'yamashita-tetsu-df@ynu.jp',\n",
       " 'horiyasuto@gmail.com',\n",
       " 'chinoney@gmail.com',\n",
       " 'tajimao@gmail.com',\n",
       " 's.feeney@imperial.ac.uk',\n",
       " 'colin.ross.dal@gmail.com',\n",
       " 'john.groh@berkeley.edu',\n",
       " 'fugino-takuro-yk@ynu.jp',\n",
       " 'colin.ross.dal@gmail.com',\n",
       " 'kaja@dal.ca',\n",
       " 'khattori@berkeley.edu',\n",
       " 'p.siritanasak@gmail.com',\n",
       " 'martynavaroli@gmail.com',\n",
       " 'lahowe@ucsd.edu',\n",
       " 'nobu.katayama@ipmu.jp',\n",
       " 'yuuko@post.kek.jp',\n",
       " 'nstebor@gmail.com',\n",
       " 'avzahn@ucsd.edu',\n",
       " 'ajcukierman@berkeley.edu',\n",
       " 'llowry@ucsd.edu',\n",
       " 'julien.peloton@apc.univ-paris7.fr',\n",
       " 'colin.ross.dal@gmail.com',\n",
       " 'llowry@ucsd.edu',\n",
       " 'chinoney@gmail.com',\n",
       " 'tmatsumu@astro.isas.jaxa.jp',\n",
       " 'yuuko@post.kek.jp',\n",
       " 'colin.ross.dal@gmail.com',\n",
       " 'barrondarcy@gmail.com',\n",
       " 'dleon@physics.ucsd.edu',\n",
       " 'takatori@post.kek.jp',\n",
       " 's.feeney@imperial.ac.uk',\n",
       " 'john.groh@berkeley.edu',\n",
       " 'lahowe@ucsd.edu',\n",
       " 'masaya.hasegawa@kek.jp',\n",
       " 'yamashita-tetsu-df@ynu.jp',\n",
       " 'colin.ross.dal@gmail.com',\n",
       " 'j.p.a.kaufman@gmail.com',\n",
       " 'martynavaroli@gmail.com',\n",
       " 'objeong@berkeley.edu',\n",
       " 'iyuki@post.kek.jp',\n",
       " 'giuspugl@sissa.it',\n",
       " 'kaja@dal.ca',\n",
       " 'colin.ross.dal@gmail.com',\n",
       " 'takafure777@gmail.com',\n",
       " 'llowry@ucsd.edu',\n",
       " 'fugino-takuro-yk@ynu.jp',\n",
       " 'masashi.hazumi@gmail.com',\n",
       " 'ajcukierman@berkeley.edu',\n",
       " 'avzahn@ucsd.edu',\n",
       " 'takatori@post.kek.jp',\n",
       " 'giuspugl@sissa.it',\n",
       " 'khattori@berkeley.edu',\n",
       " 'ayoshiki@post.kek.jp',\n",
       " 'a.ducout@imperial.ac.uk',\n",
       " 'kavonkazem@gmail.com',\n",
       " 'haruki.nishino@kek.jp',\n",
       " 'dleon@physics.ucsd.edu',\n",
       " 'barrondarcy@gmail.com',\n",
       " 'chinoney@gmail.com',\n",
       " 'julien.peloton@apc.univ-paris7.fr',\n",
       " 'colin.ross.dal@gmail.com',\n",
       " 'objeong@berkeley.edu',\n",
       " 'kavonkazem@gmail.com',\n",
       " 'lahowe@ucsd.edu',\n",
       " 'masaya.hasegawa@kek.jp',\n",
       " 'i.i.anything25@gmail.com',\n",
       " 'colin.ross.dal@gmail.com',\n",
       " 'khattori@berkeley.edu',\n",
       " 'dleon@physics.ucsd.edu',\n",
       " 'yuuko@post.kek.jp',\n",
       " 'horiyasuto@gmail.com',\n",
       " 'nobu.katayama@ipmu.jp',\n",
       " 'masashi.hazumi@gmail.com',\n",
       " 'chill90@berkeley.edu',\n",
       " 'ajcukierman@berkeley.edu',\n",
       " 'grant.teply@gmail.com',\n",
       " 'fugino-takuro-yk@ynu.jp',\n",
       " 'dpoletti@apc.univ-paris7.fr',\n",
       " 'kaja@dal.ca',\n",
       " '__ngoecknerwald@berkeley.edu',\n",
       " 'p.siritanasak@gmail.com',\n",
       " 'avzahn@ucsd.edu',\n",
       " 'llowry@ucsd.edu',\n",
       " 'martynavaroli@gmail.com',\n",
       " 'takakura@post.kek.jp',\n",
       " 'haruki.nishino@kek.jp',\n",
       " 'takatori@post.kek.jp',\n",
       " 'colin.ross.dal@gmail.com',\n",
       " 'barrondarcy@gmail.com',\n",
       " 'takafure777@gmail.com',\n",
       " 'haruki.nishino@kek.jp',\n",
       " 's.feeney@imperial.ac.uk',\n",
       " 'p.siritanasak@gmail.com',\n",
       " 'objeong@berkeley.edu',\n",
       " 'yuuko@post.kek.jp',\n",
       " 't.hamada@astr.tohoku.ac.jp',\n",
       " 'llowry@ucsd.edu',\n",
       " 'giuspugl@sissa.it',\n",
       " 'avzahn@ucsd.edu',\n",
       " 'nobu.katayama@ipmu.jp',\n",
       " 'masashi.hazumi@gmail.com',\n",
       " 'takafure777@gmail.com',\n",
       " 'ajcukierman@berkeley.edu',\n",
       " 'takatori@post.kek.jp',\n",
       " 'julien.peloton@apc.univ-paris7.fr',\n",
       " 'grant.teply@gmail.com',\n",
       " 'lahowe@ucsd.edu',\n",
       " 'barrondarcy@gmail.com',\n",
       " 'yamashita-tetsu-df@ynu.jp',\n",
       " 'a.ducout@imperial.ac.uk',\n",
       " 'colin.ross.dal@gmail.com',\n",
       " 'dleon@physics.ucsd.edu',\n",
       " 'chinoney@gmail.com',\n",
       " 'khattori@berkeley.edu',\n",
       " 'iyuki@post.kek.jp',\n",
       " '__ngoecknerwald@berkeley.edu',\n",
       " 'ianshirley2114@gmail.com',\n",
       " 'yuuko@post.kek.jp',\n",
       " 'dpoletti@apc.univ-paris7.fr',\n",
       " 'dleon@physics.ucsd.edu',\n",
       " 'chinoney@gmail.com',\n",
       " 'masayan.as.no18@gmail.com',\n",
       " 'takatori@post.kek.jp',\n",
       " 'barrondarcy@gmail.com',\n",
       " 'nstebor@gmail.com',\n",
       " 'tuckerelleflot@gmail.com',\n",
       " 'llowry@ucsd.edu',\n",
       " 't.hamada@astr.tohoku.ac.jp',\n",
       " 'fugino-takuro-yk@ynu.jp',\n",
       " 'j.p.a.kaufman@gmail.com',\n",
       " 'ajcukierman@berkeley.edu',\n",
       " 'khattori@berkeley.edu',\n",
       " 'yamashita-tetsu-df@ynu.jp',\n",
       " 's.feeney@imperial.ac.uk',\n",
       " 'p.siritanasak@gmail.com',\n",
       " 'takafure777@gmail.com',\n",
       " 'horiyasuto@gmail.com',\n",
       " 'tajimao@gmail.com',\n",
       " 'i.i.anything25@gmail.com',\n",
       " 'ianshirley2114@gmail.com',\n",
       " 'gregJaehnig@gmail.com',\n",
       " 'masaya.hasegawa@kek.jp',\n",
       " 'dpoletti@apc.univ-paris7.fr',\n",
       " 'llowry@ucsd.edu',\n",
       " 'takakura@post.kek.jp',\n",
       " 'yuuko@post.kek.jp',\n",
       " 'khattori@berkeley.edu',\n",
       " 'p.siritanasak@gmail.com',\n",
       " 'objeong@berkeley.edu',\n",
       " 'giuspugl@sissa.it',\n",
       " 'takatori@post.kek.jp',\n",
       " 'a.ducout@imperial.ac.uk',\n",
       " 'tajimao@gmail.com',\n",
       " 't.hamada@astr.tohoku.ac.jp',\n",
       " 'yuuko@post.kek.jp',\n",
       " 's.feeney@imperial.ac.uk',\n",
       " 'j.p.a.kaufman@gmail.com',\n",
       " 'takatori@post.kek.jp',\n",
       " 'p.siritanasak@gmail.com',\n",
       " 'horiyasuto@gmail.com',\n",
       " 't.hamada@astr.tohoku.ac.jp',\n",
       " 'fugino-takuro-yk@ynu.jp',\n",
       " 'colin.ross.dal@gmail.com',\n",
       " 'nstebor@gmail.com',\n",
       " 'avzahn@ucsd.edu',\n",
       " 'khattori@berkeley.edu',\n",
       " 'takatori@post.kek.jp',\n",
       " 'GregJaehnig@gmail.com',\n",
       " 'haruki.nishino@kek.jp',\n",
       " 'dpoletti@apc.univ-paris7.fr',\n",
       " 'ianshirley2114@gmail.com',\n",
       " 'llowry@ucsd.edu',\n",
       " 'objeong@berkeley.edu',\n",
       " 'takafure777@gmail.com',\n",
       " 'barrondarcy@gmail.com',\n",
       " 'kavonkazem@gmail.com',\n",
       " 's.feeney@imperial.ac.uk',\n",
       " 't.hamada@astr.tohoku.ac.jp',\n",
       " 'yuuko@post.kek.jp',\n",
       " 'masashi.hazumi@gmail.com',\n",
       " 'nobu.katayama@ipmu.jp',\n",
       " 'giuspugl@sissa.it',\n",
       " '__ngoecknerwald@berkeley.edu',\n",
       " 'GregJaehnig@gmail.com',\n",
       " 'llowry@ucsd.edu',\n",
       " 'john.groh@berkeley.edu',\n",
       " 'takakura@post.kek.jp']"
      ]
     },
     "execution_count": 3,
     "metadata": {},
     "output_type": "execute_result"
    }
   ],
   "source": [
    "emails"
   ]
  },
  {
   "cell_type": "code",
   "execution_count": 5,
   "metadata": {
    "collapsed": false
   },
   "outputs": [],
   "source": [
    "now = datetime.datetime.utcnow()"
   ]
  },
  {
   "cell_type": "code",
   "execution_count": 9,
   "metadata": {
    "collapsed": false
   },
   "outputs": [
    {
     "ename": "AttributeError",
     "evalue": "'module' object has no attribute 'localize'",
     "output_type": "error",
     "traceback": [
      "\u001b[1;31m---------------------------------------------------------------------------\u001b[0m",
      "\u001b[1;31mAttributeError\u001b[0m                            Traceback (most recent call last)",
      "\u001b[1;32m<ipython-input-9-a7b4cbd8768c>\u001b[0m in \u001b[0;36m<module>\u001b[1;34m()\u001b[0m\n\u001b[0;32m      1\u001b[0m \u001b[1;32mimport\u001b[0m \u001b[0mpytz\u001b[0m\u001b[1;33m\u001b[0m\u001b[0m\n\u001b[0;32m      2\u001b[0m \u001b[0mpacific\u001b[0m \u001b[1;33m=\u001b[0m \u001b[0mpytz\u001b[0m\u001b[1;33m.\u001b[0m\u001b[0mtimezone\u001b[0m\u001b[1;33m(\u001b[0m\u001b[1;34m\"America/Los_Angeles\"\u001b[0m\u001b[1;33m)\u001b[0m\u001b[1;33m\u001b[0m\u001b[0m\n\u001b[1;32m----> 3\u001b[1;33m \u001b[0mpytz\u001b[0m\u001b[1;33m.\u001b[0m\u001b[0mlocalize\u001b[0m\u001b[1;33m(\u001b[0m\u001b[0mnow\u001b[0m\u001b[1;33m,\u001b[0m\u001b[0mpacific\u001b[0m\u001b[1;33m)\u001b[0m\u001b[1;33m\u001b[0m\u001b[0m\n\u001b[0m",
      "\u001b[1;31mAttributeError\u001b[0m: 'module' object has no attribute 'localize'"
     ]
    }
   ],
   "source": [
    "import pytz\n",
    "pacific = pytz.timezone(\"America/Los_Angeles\")\n"
   ]
  },
  {
   "cell_type": "code",
   "execution_count": 10,
   "metadata": {
    "collapsed": false
   },
   "outputs": [
    {
     "data": {
      "text/plain": [
       "[datetime.datetime(2015, 10, 29, 1, 1),\n",
       " datetime.datetime(2015, 10, 29, 4, 59),\n",
       " datetime.datetime(2015, 10, 29, 8, 57),\n",
       " datetime.datetime(2015, 10, 29, 14, 18),\n",
       " datetime.datetime(2015, 10, 29, 17, 12),\n",
       " datetime.datetime(2015, 10, 29, 20, 55),\n",
       " datetime.datetime(2015, 10, 30, 0, 58),\n",
       " datetime.datetime(2015, 10, 30, 4, 58),\n",
       " datetime.datetime(2015, 10, 30, 9, 46),\n",
       " datetime.datetime(2015, 10, 30, 21, 2),\n",
       " datetime.datetime(2015, 10, 31, 1, 41),\n",
       " datetime.datetime(2015, 10, 31, 8, 56),\n",
       " datetime.datetime(2015, 10, 31, 12, 56),\n",
       " datetime.datetime(2015, 10, 31, 21, 4),\n",
       " datetime.datetime(2015, 11, 1, 2, 45),\n",
       " datetime.datetime(2015, 11, 1, 9, 43),\n",
       " datetime.datetime(2015, 11, 1, 14, 6),\n",
       " datetime.datetime(2015, 11, 1, 16, 56),\n",
       " datetime.datetime(2015, 11, 1, 21, 1),\n",
       " datetime.datetime(2015, 11, 2, 6, 6),\n",
       " datetime.datetime(2015, 11, 2, 14, 10),\n",
       " datetime.datetime(2015, 11, 2, 17, 37),\n",
       " datetime.datetime(2015, 11, 3, 9, 35),\n",
       " datetime.datetime(2015, 11, 3, 14, 20),\n",
       " datetime.datetime(2015, 11, 4, 1, 6),\n",
       " datetime.datetime(2015, 11, 4, 5, 3),\n",
       " datetime.datetime(2015, 11, 4, 9, 2),\n",
       " datetime.datetime(2015, 11, 4, 13, 38),\n",
       " datetime.datetime(2015, 11, 4, 20, 35),\n",
       " datetime.datetime(2015, 11, 5, 6, 2),\n",
       " datetime.datetime(2015, 11, 5, 14, 37),\n",
       " datetime.datetime(2015, 11, 5, 16, 56),\n",
       " datetime.datetime(2015, 11, 5, 20, 55),\n",
       " datetime.datetime(2015, 11, 6, 1, 2),\n",
       " datetime.datetime(2015, 11, 6, 5, 39),\n",
       " datetime.datetime(2015, 11, 7, 2, 35),\n",
       " datetime.datetime(2015, 11, 7, 4, 19),\n",
       " datetime.datetime(2015, 11, 7, 9, 36),\n",
       " datetime.datetime(2015, 11, 7, 13, 16),\n",
       " datetime.datetime(2015, 11, 7, 22, 16),\n",
       " datetime.datetime(2015, 11, 8, 1, 23),\n",
       " datetime.datetime(2015, 11, 9, 1, 0),\n",
       " datetime.datetime(2015, 11, 9, 5, 22),\n",
       " datetime.datetime(2015, 11, 9, 13, 55),\n",
       " datetime.datetime(2015, 11, 9, 17, 4),\n",
       " datetime.datetime(2015, 11, 9, 21, 31),\n",
       " datetime.datetime(2015, 11, 10, 5, 35),\n",
       " datetime.datetime(2015, 11, 10, 8, 55),\n",
       " datetime.datetime(2015, 11, 10, 13, 37),\n",
       " datetime.datetime(2015, 11, 10, 17, 8),\n",
       " datetime.datetime(2015, 11, 10, 21, 13),\n",
       " datetime.datetime(2015, 11, 11, 4, 40),\n",
       " datetime.datetime(2015, 11, 11, 9, 8),\n",
       " datetime.datetime(2015, 11, 11, 16, 41),\n",
       " datetime.datetime(2015, 11, 12, 1, 5),\n",
       " datetime.datetime(2015, 11, 12, 4, 55),\n",
       " datetime.datetime(2015, 11, 12, 9, 2),\n",
       " datetime.datetime(2015, 11, 12, 13, 3),\n",
       " datetime.datetime(2015, 11, 12, 16, 53),\n",
       " datetime.datetime(2015, 11, 12, 21, 4),\n",
       " datetime.datetime(2015, 11, 13, 1, 12),\n",
       " datetime.datetime(2015, 11, 13, 5, 8),\n",
       " datetime.datetime(2015, 11, 13, 10, 5),\n",
       " datetime.datetime(2015, 11, 13, 13, 51),\n",
       " datetime.datetime(2015, 11, 13, 16, 20),\n",
       " datetime.datetime(2015, 11, 13, 17, 29),\n",
       " datetime.datetime(2015, 11, 13, 20, 59),\n",
       " datetime.datetime(2015, 11, 14, 1, 8),\n",
       " datetime.datetime(2015, 11, 14, 8, 59),\n",
       " datetime.datetime(2015, 11, 14, 14, 16),\n",
       " datetime.datetime(2015, 11, 15, 0, 55),\n",
       " datetime.datetime(2015, 11, 15, 5, 1),\n",
       " datetime.datetime(2015, 11, 15, 10, 12),\n",
       " datetime.datetime(2015, 11, 15, 14, 42),\n",
       " datetime.datetime(2015, 11, 16, 5, 1),\n",
       " datetime.datetime(2015, 11, 16, 8, 49),\n",
       " datetime.datetime(2015, 11, 16, 12, 10),\n",
       " datetime.datetime(2015, 11, 17, 1, 26),\n",
       " datetime.datetime(2015, 11, 17, 8, 50),\n",
       " datetime.datetime(2015, 11, 17, 23, 3),\n",
       " datetime.datetime(2015, 11, 18, 0, 56),\n",
       " datetime.datetime(2015, 11, 18, 5, 58),\n",
       " datetime.datetime(2015, 11, 18, 13, 1),\n",
       " datetime.datetime(2015, 11, 18, 17, 3),\n",
       " datetime.datetime(2015, 11, 18, 22, 11),\n",
       " datetime.datetime(2015, 11, 19, 1, 0),\n",
       " datetime.datetime(2015, 11, 19, 5, 3),\n",
       " datetime.datetime(2015, 11, 19, 8, 51),\n",
       " datetime.datetime(2015, 11, 19, 13, 12),\n",
       " datetime.datetime(2015, 11, 19, 17, 3),\n",
       " datetime.datetime(2015, 11, 20, 1, 30),\n",
       " datetime.datetime(2015, 11, 20, 5, 18),\n",
       " datetime.datetime(2015, 11, 20, 11, 9),\n",
       " datetime.datetime(2015, 11, 21, 5, 5),\n",
       " datetime.datetime(2015, 11, 21, 9, 1),\n",
       " datetime.datetime(2015, 11, 14, 14, 16),\n",
       " datetime.datetime(2015, 11, 21, 21, 22),\n",
       " datetime.datetime(2015, 11, 22, 0, 56),\n",
       " datetime.datetime(2015, 11, 22, 4, 55),\n",
       " datetime.datetime(2015, 11, 22, 8, 56),\n",
       " datetime.datetime(2015, 11, 22, 14, 0),\n",
       " datetime.datetime(2015, 11, 22, 17, 22),\n",
       " datetime.datetime(2015, 11, 22, 20, 56),\n",
       " datetime.datetime(2015, 11, 23, 1, 19),\n",
       " datetime.datetime(2015, 11, 15, 5, 1),\n",
       " datetime.datetime(2015, 11, 23, 21, 18),\n",
       " datetime.datetime(2015, 11, 23, 1, 0),\n",
       " datetime.datetime(2015, 11, 24, 6, 3),\n",
       " datetime.datetime(2015, 11, 24, 9, 13),\n",
       " datetime.datetime(2015, 11, 24, 13, 0),\n",
       " datetime.datetime(2015, 11, 24, 17, 7),\n",
       " datetime.datetime(2015, 11, 24, 21, 3),\n",
       " datetime.datetime(2015, 11, 25, 4, 59),\n",
       " datetime.datetime(2015, 11, 25, 9, 5),\n",
       " datetime.datetime(2015, 11, 25, 12, 59),\n",
       " datetime.datetime(2015, 11, 26, 1, 16),\n",
       " datetime.datetime(2015, 11, 26, 5, 13),\n",
       " datetime.datetime(2015, 11, 26, 8, 50),\n",
       " datetime.datetime(2015, 11, 26, 14, 24),\n",
       " datetime.datetime(2015, 11, 26, 22, 55),\n",
       " datetime.datetime(2015, 11, 27, 11, 7),\n",
       " datetime.datetime(2015, 11, 28, 4, 56),\n",
       " datetime.datetime(2015, 11, 28, 8, 59),\n",
       " datetime.datetime(2015, 11, 28, 13, 25),\n",
       " datetime.datetime(2015, 11, 28, 21, 0),\n",
       " datetime.datetime(2015, 11, 29, 0, 50),\n",
       " datetime.datetime(2015, 11, 29, 9, 1),\n",
       " datetime.datetime(2015, 11, 29, 13, 3),\n",
       " datetime.datetime(2015, 11, 29, 20, 57),\n",
       " datetime.datetime(2015, 11, 30, 0, 54),\n",
       " datetime.datetime(2015, 11, 30, 5, 7),\n",
       " datetime.datetime(2015, 11, 30, 8, 55),\n",
       " datetime.datetime(2015, 11, 30, 13, 31),\n",
       " datetime.datetime(2015, 11, 30, 17, 20),\n",
       " datetime.datetime(2015, 11, 30, 21, 13),\n",
       " datetime.datetime(2015, 12, 1, 1, 8),\n",
       " datetime.datetime(2015, 12, 1, 5, 54),\n",
       " datetime.datetime(2015, 12, 1, 9, 7),\n",
       " datetime.datetime(2015, 12, 1, 21, 1),\n",
       " datetime.datetime(2015, 12, 2, 1, 27),\n",
       " datetime.datetime(2015, 12, 2, 8, 55),\n",
       " datetime.datetime(2015, 12, 2, 13, 45),\n",
       " datetime.datetime(2015, 12, 3, 1, 8),\n",
       " datetime.datetime(2015, 12, 3, 5, 25),\n",
       " datetime.datetime(2015, 12, 3, 9, 2),\n",
       " datetime.datetime(2015, 12, 3, 12, 59),\n",
       " datetime.datetime(2015, 12, 3, 21, 33),\n",
       " datetime.datetime(2015, 12, 4, 1, 42),\n",
       " datetime.datetime(2015, 12, 5, 1, 6),\n",
       " datetime.datetime(2015, 12, 5, 4, 56),\n",
       " datetime.datetime(2015, 12, 5, 9, 45),\n",
       " datetime.datetime(2015, 12, 5, 13, 46),\n",
       " datetime.datetime(2015, 12, 5, 21, 0),\n",
       " datetime.datetime(2015, 12, 6, 0, 48),\n",
       " datetime.datetime(2015, 12, 6, 5, 48),\n",
       " datetime.datetime(2015, 12, 6, 8, 52),\n",
       " datetime.datetime(2015, 12, 6, 13, 3),\n",
       " datetime.datetime(2015, 12, 7, 1, 27),\n",
       " datetime.datetime(2015, 12, 8, 1, 48),\n",
       " datetime.datetime(2015, 12, 8, 5, 41),\n",
       " datetime.datetime(2015, 12, 8, 9, 27),\n",
       " datetime.datetime(2015, 12, 8, 13, 11),\n",
       " datetime.datetime(2015, 12, 8, 21, 10),\n",
       " datetime.datetime(2015, 12, 9, 1, 3),\n",
       " datetime.datetime(2015, 12, 9, 8, 54),\n",
       " datetime.datetime(2015, 12, 9, 13, 56),\n",
       " datetime.datetime(2015, 12, 10, 5, 11),\n",
       " datetime.datetime(2015, 12, 10, 9, 9),\n",
       " datetime.datetime(2015, 12, 10, 13, 57),\n",
       " datetime.datetime(2015, 12, 10, 21, 16),\n",
       " datetime.datetime(2015, 12, 11, 1, 28),\n",
       " datetime.datetime(2015, 12, 11, 5, 11),\n",
       " datetime.datetime(2015, 12, 11, 14, 4),\n",
       " datetime.datetime(2015, 12, 12, 13, 23),\n",
       " datetime.datetime(2015, 12, 14, 13, 17),\n",
       " datetime.datetime(2015, 12, 15, 7, 5),\n",
       " datetime.datetime(2015, 12, 15, 13, 11),\n",
       " datetime.datetime(2015, 12, 16, 9, 5),\n",
       " datetime.datetime(2015, 12, 16, 13, 51),\n",
       " datetime.datetime(2015, 12, 17, 5, 6),\n",
       " datetime.datetime(2015, 12, 17, 13, 14),\n",
       " datetime.datetime(2015, 12, 18, 5, 32),\n",
       " datetime.datetime(2015, 12, 19, 4, 59),\n",
       " datetime.datetime(2015, 12, 19, 8, 58),\n",
       " datetime.datetime(2015, 12, 19, 13, 1),\n",
       " datetime.datetime(2015, 12, 19, 16, 51),\n",
       " datetime.datetime(2015, 12, 19, 23, 47),\n",
       " datetime.datetime(2015, 12, 20, 1, 8),\n",
       " datetime.datetime(2015, 12, 20, 5, 26),\n",
       " datetime.datetime(2015, 12, 20, 11, 23),\n",
       " datetime.datetime(2015, 12, 21, 1, 0),\n",
       " datetime.datetime(2015, 12, 21, 9, 51),\n",
       " datetime.datetime(2015, 12, 21, 14, 13),\n",
       " datetime.datetime(2015, 12, 21, 20, 57),\n",
       " datetime.datetime(2015, 12, 22, 2, 42),\n",
       " datetime.datetime(2015, 12, 22, 6, 4),\n",
       " datetime.datetime(2015, 12, 22, 20, 59),\n",
       " datetime.datetime(2015, 12, 23, 1, 26),\n",
       " datetime.datetime(2015, 12, 23, 6, 43),\n",
       " datetime.datetime(2015, 12, 23, 13, 11),\n",
       " datetime.datetime(2015, 12, 24, 14, 24),\n",
       " datetime.datetime(2015, 12, 26, 8, 58),\n",
       " datetime.datetime(2015, 12, 26, 13, 19),\n",
       " datetime.datetime(2015, 12, 27, 9, 1),\n",
       " datetime.datetime(2015, 12, 27, 14, 14),\n",
       " datetime.datetime(2015, 12, 28, 1, 16),\n",
       " datetime.datetime(2015, 12, 28, 21, 19),\n",
       " datetime.datetime(2015, 12, 29, 1, 11),\n",
       " datetime.datetime(2015, 12, 29, 5, 39),\n",
       " datetime.datetime(2015, 12, 29, 9, 5)]"
      ]
     },
     "execution_count": 10,
     "metadata": {},
     "output_type": "execute_result"
    }
   ],
   "source": [
    "times"
   ]
  },
  {
   "cell_type": "code",
   "execution_count": 13,
   "metadata": {
    "collapsed": false
   },
   "outputs": [
    {
     "data": {
      "text/plain": [
       "-28800.001"
      ]
     },
     "execution_count": 13,
     "metadata": {},
     "output_type": "execute_result"
    }
   ],
   "source": [
    "p = pytz.utc.localize(datetime.datetime.now())\n",
    "u = pacific.localize(datetime.datetime.now())\n",
    "(p-u).total_seconds()"
   ]
  },
  {
   "cell_type": "code",
   "execution_count": 14,
   "metadata": {
    "collapsed": false
   },
   "outputs": [
    {
     "data": {
      "text/plain": [
       "datetime.datetime(2016, 1, 7, 9, 22, 24, 814000, tzinfo=<UTC>)"
      ]
     },
     "execution_count": 14,
     "metadata": {},
     "output_type": "execute_result"
    }
   ],
   "source": [
    "p"
   ]
  },
  {
   "cell_type": "code",
   "execution_count": 15,
   "metadata": {
    "collapsed": false
   },
   "outputs": [
    {
     "data": {
      "text/plain": [
       "datetime.datetime(2016, 1, 7, 9, 22, 24, 815000, tzinfo=<DstTzInfo 'America/Los_Angeles' PST-1 day, 16:00:00 STD>)"
      ]
     },
     "execution_count": 15,
     "metadata": {},
     "output_type": "execute_result"
    }
   ],
   "source": [
    "u"
   ]
  },
  {
   "cell_type": "code",
   "execution_count": 16,
   "metadata": {
    "collapsed": false
   },
   "outputs": [
    {
     "data": {
      "text/plain": [
       "datetime.timedelta"
      ]
     },
     "execution_count": 16,
     "metadata": {},
     "output_type": "execute_result"
    }
   ],
   "source": [
    "datetime.timedelta"
   ]
  },
  {
   "cell_type": "code",
   "execution_count": 18,
   "metadata": {
    "collapsed": false
   },
   "outputs": [
    {
     "data": {
      "text/plain": [
       "datetime.datetime(2016, 1, 7, 17, 22, 24, 815000, tzinfo=<UTC>)"
      ]
     },
     "execution_count": 18,
     "metadata": {},
     "output_type": "execute_result"
    }
   ],
   "source": [
    "u.astimezone(pytz.utc)"
   ]
  },
  {
   "cell_type": "code",
   "execution_count": 19,
   "metadata": {
    "collapsed": false
   },
   "outputs": [
    {
     "data": {
      "text/plain": [
       "datetime.datetime(2016, 1, 7, 9, 22, 24, 815000, tzinfo=<DstTzInfo 'America/Los_Angeles' PST-1 day, 16:00:00 STD>)"
      ]
     },
     "execution_count": 19,
     "metadata": {},
     "output_type": "execute_result"
    }
   ],
   "source": [
    "u"
   ]
  },
  {
   "cell_type": "code",
   "execution_count": null,
   "metadata": {
    "collapsed": true
   },
   "outputs": [],
   "source": []
  }
 ],
 "metadata": {
  "kernelspec": {
   "display_name": "Python 2",
   "language": "python",
   "name": "python2"
  },
  "language_info": {
   "codemirror_mode": {
    "name": "ipython",
    "version": 2
   },
   "file_extension": ".py",
   "mimetype": "text/x-python",
   "name": "python",
   "nbconvert_exporter": "python",
   "pygments_lexer": "ipython2",
   "version": "2.7.10"
  }
 },
 "nbformat": 4,
 "nbformat_minor": 0
}
