{
 "cells": [
  {
   "cell_type": "code",
   "execution_count": 1,
   "metadata": {
    "collapsed": false
   },
   "outputs": [],
   "source": [
    "from pacific import *\n",
    "import datetime\n",
    "import pytz"
   ]
  },
  {
   "cell_type": "code",
   "execution_count": 5,
   "metadata": {
    "collapsed": false,
    "scrolled": true
   },
   "outputs": [
    {
     "name": "stdout",
     "output_type": "stream",
     "text": [
      "auth code4/VYMsBMH8y9j-U35kxm_NL4gn0uyzE6McBgxAdcuKB24\n"
     ]
    },
    {
     "name": "stderr",
     "output_type": "stream",
     "text": [
      "previous week: Jon Kaufman, 10\n",
      "previous week: Praween, 10\n",
      "Josquin Errard not found in handoff\n",
      "KaoriHattori not found in handoff\n",
      "previous week: GregJaehnig, 10\n",
      "previous week: GregJaehnig, 25\n",
      "WEEKEND INELIGIBLE: GregJaehnig\n",
      "previous week: Ian Shirley, 10\n",
      "previous week: Ian Shirley, 10\n",
      "previous week: Neil Goeckner-Wald, 10\n",
      "Nathan Whitehorn not found in handoff\n",
      "previous week: Ari, 10\n",
      "previous week: Kaja Rotermund, 10\n",
      "previous week: grant.teply, 10\n",
      "WEEKEND INELIGIBLE: grant.teply\n",
      "previous week: Shawn Beckman, 10\n",
      "previous week: Christian Reichardt, 25\n",
      "WEEKEND INELIGIBLE: Christian Reichardt\n",
      "previous week: Kelsey Lund, 10\n",
      "previous week: Kelsey Lund, 10\n"
     ]
    }
   ],
   "source": [
    "start = pytz.timezone(\"America/Los_Angeles\").localize(datetime.datetime(year=2016,day=11,hour=10,month=4))\n",
    "sch = init_schedule(start)"
   ]
  },
  {
   "cell_type": "code",
   "execution_count": 6,
   "metadata": {
    "collapsed": false
   },
   "outputs": [],
   "source": [
    "sch.schedule()"
   ]
  },
  {
   "cell_type": "code",
   "execution_count": 7,
   "metadata": {
    "collapsed": false,
    "scrolled": true
   },
   "outputs": [
    {
     "name": "stdout",
     "output_type": "stream",
     "text": [
      "Mon 11 10:00 AM - 02:00 PM PDT :: Ian Shirley\n",
      "Mon 11 02:00 PM - 06:00 PM PDT :: Kelsey Lund\n",
      "Mon 11 06:00 PM - 10:00 PM PDT :: Shawn Beckman\n",
      "Tue 12 10:00 AM - 02:00 PM PDT :: Ari\n",
      "Tue 12 02:00 PM - 06:00 PM PDT :: Nate Stebor\n",
      "Tue 12 06:00 PM - 10:00 PM PDT :: Charles Hill\n",
      "Wed 13 10:00 AM - 02:00 PM PDT :: Kaja Rotermund\n",
      "Wed 13 02:00 PM - 06:00 PM PDT :: Darcy Barron\n",
      "Wed 13 06:00 PM - 10:00 PM PDT :: David Leon\n",
      "Thu 14 10:00 AM - 02:00 PM PDT :: John Groh\n",
      "Thu 14 02:00 PM - 06:00 PM PDT :: Lindsay Lowry\n",
      "Thu 14 06:00 PM - 10:00 PM PDT :: GregJaehnig\n",
      "Fri 15 10:00 AM - 02:00 PM PDT :: grant.teply\n",
      "Fri 15 02:00 PM - 06:00 PM PDT :: Tucker Elleflot\n",
      "Fri 15 06:00 PM - 10:00 PM PDT :: UNFILLED\n",
      "Sat 16 10:00 AM - 02:00 PM PDT :: Aritoki Suzuki\n",
      "Sat 16 02:00 PM - 06:00 PM PDT :: \"Alex Zahn\"\n",
      "Sat 16 06:00 PM - 10:00 PM PDT :: Logan Howe\n",
      "Sun 17 10:00 AM - 02:00 PM PDT :: Neil Goeckner-Wald\n",
      "Sun 17 02:00 PM - 06:00 PM PDT :: Oliver Jeong\n",
      "Sun 17 06:00 PM - 10:00 PM PDT :: Marty Navaroli\n",
      "\n"
     ]
    }
   ],
   "source": [
    "print sch"
   ]
  },
  {
   "cell_type": "code",
   "execution_count": 8,
   "metadata": {
    "collapsed": false,
    "scrolled": true
   },
   "outputs": [],
   "source": [
    "sch.publish()"
   ]
  },
  {
   "cell_type": "code",
   "execution_count": 14,
   "metadata": {
    "collapsed": false
   },
   "outputs": [
    {
     "data": {
      "text/plain": [
       "u'C:\\\\cygwin64\\\\home\\\\alex\\\\remote_observing2'"
      ]
     },
     "execution_count": 14,
     "metadata": {},
     "output_type": "execute_result"
    }
   ],
   "source": [
    "pwd"
   ]
  },
  {
   "cell_type": "code",
   "execution_count": 6,
   "metadata": {
    "collapsed": false
   },
   "outputs": [
    {
     "name": "stdout",
     "output_type": "stream",
     "text": [
      "ianshirley2114@gmail.com\n",
      "ajcukierman@gmail.com\n",
      "s.beckman@berkeley.edu\n",
      "kelseylund17576@gmail.com\n",
      "ngoecknerwald@berkeley.edu\n",
      "objeong@gmail.com\n",
      "kajarotermund@gmail.com\n",
      "j.p.a.kaufman@gmail.com\n",
      "john.groh@berkeley.edu\n",
      "nstebor@gmail.com\n",
      "barrondarcy@gmail.com\n",
      "charles.a.hill01@gmail.com\n",
      "lindsay@nglowry.com\n",
      "avzahn06@gmail.com\n",
      "avzahn06@gmail.com\n",
      "aritokisuzuki@gmail.com\n",
      "leonidas.howe@gmail.com\n",
      "p.siritanasak@gmail.com\n",
      "kavonkazem@gmail.com\n",
      "proof.by.contradiction@gmail.com\n",
      "martynavaroli@gmail.com\n"
     ]
    }
   ],
   "source": [
    "for s in sch.shifts:\n",
    "    print s.observer.email"
   ]
  },
  {
   "cell_type": "code",
   "execution_count": null,
   "metadata": {
    "collapsed": true
   },
   "outputs": [],
   "source": []
  }
 ],
 "metadata": {
  "kernelspec": {
   "display_name": "Python 2",
   "language": "python",
   "name": "python2"
  },
  "language_info": {
   "codemirror_mode": {
    "name": "ipython",
    "version": 2
   },
   "file_extension": ".py",
   "mimetype": "text/x-python",
   "name": "python",
   "nbconvert_exporter": "python",
   "pygments_lexer": "ipython2",
   "version": "2.7.10"
  }
 },
 "nbformat": 4,
 "nbformat_minor": 0
}
