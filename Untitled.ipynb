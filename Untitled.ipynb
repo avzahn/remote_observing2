{
 "cells": [
  {
   "cell_type": "code",
   "execution_count": 1,
   "metadata": {
    "collapsed": false
   },
   "outputs": [],
   "source": [
    "from pacific import *\n",
    "import datetime\n",
    "import pytz"
   ]
  },
  {
   "cell_type": "code",
   "execution_count": 2,
   "metadata": {
    "collapsed": false,
    "scrolled": false
   },
   "outputs": [
    {
     "name": "stdout",
     "output_type": "stream",
     "text": [
      "auth code4/EZetceJtxnW_M9sP3jk_gwjwgM_qET3-ZmOqhohkaEw\n"
     ]
    },
    {
     "name": "stderr",
     "output_type": "stream",
     "text": [
      "Josquin Errard not found in handoff\n",
      "Aritoki Suzuki not found in handoff\n",
      "Nathan Whitehorn not found in handoff\n",
      "Shawn Beckman not found in handoff\n",
      "Christian Reichardt not found in handoff\n"
     ]
    }
   ],
   "source": [
    "start = pytz.timezone(\"America/Los_Angeles\").localize(datetime.datetime(year=2016,day=20,hour=9,month=1))\n",
    "sch = init_schedule(start)"
   ]
  },
  {
   "cell_type": "code",
   "execution_count": 3,
   "metadata": {
    "collapsed": false
   },
   "outputs": [
    {
     "name": "stdout",
     "output_type": "stream",
     "text": [
      "Marty Navaroli martynavaroli@gmail.com 20\n",
      "Frederick Matsuda takafure777@gmail.com 65\n",
      "Jon Kaufman j.p.a.kaufman@gmail.com 45\n",
      "Praween p.siritanasak@gmail.com 100\n",
      "\"Alex Zahn\" avzahn@ucsd.edu 125\n",
      "Lindsay Lowry llowry@ucsd.edu 120\n",
      "Darcy Barron barrondarcy@gmail.com 100\n",
      "David Leon dleon@physics.ucsd.edu 50\n",
      "Logan Howe lahowe@ucsd.edu 80\n",
      "Josquin Errard takakura@post.kek.jp 0\n",
      "Yuji Chinone chinoney@gmail.com 50\n",
      "Charles Hill chill90@berkeley.edu 25\n",
      "Tucker Elleflot tuckerelleflot@gmail.com 20\n",
      "Aritoki Suzuki takakura@post.kek.jp 0\n",
      "Kavon Kazemzadeh kavonkazem@gmail.com 55\n",
      "Nate Stebor nstebor@gmail.com 45\n",
      "KaoriHattori khattori@berkeley.edu 115\n",
      "GregJaehnig gregJaehnig@gmail.com 45\n",
      "yasuto horiyasuto@gmail.com 70\n",
      "Ian Shirley ianshirley2114@gmail.com 30\n",
      "Neil Goeckner-Wald __ngoecknerwald@berkeley.edu 70\n",
      "Oliver Jeong objeong@berkeley.edu 60\n",
      "Nathan Whitehorn takakura@post.kek.jp 0\n",
      "Ari ajcukierman@berkeley.edu 175\n",
      "johngroh john.groh@berkeley.edu 30\n",
      "Kaja Rotermund kaja@dal.ca 10\n",
      "grant.teply grant.teply@gmail.com 50\n",
      "Shawn Beckman takakura@post.kek.jp 0\n",
      "Christian Reichardt takakura@post.kek.jp 0\n"
     ]
    }
   ],
   "source": [
    "for o in sch.observers:\n",
    "    print o.name,o.email, o.karma"
   ]
  },
  {
   "cell_type": "code",
   "execution_count": 5,
   "metadata": {
    "collapsed": false
   },
   "outputs": [],
   "source": [
    "sch.schedule()"
   ]
  },
  {
   "cell_type": "code",
   "execution_count": 6,
   "metadata": {
    "collapsed": false
   },
   "outputs": [
    {
     "name": "stdout",
     "output_type": "stream",
     "text": [
      "Mon 25 09:00 AM - 01:00 PM PST :: Kaja Rotermund\n",
      "Mon 25 01:00 PM - 05:00 PM PST :: Marty Navaroli\n",
      "Mon 25 05:00 PM - 09:00 PM PST :: Ian Shirley\n",
      "Tue 26 09:00 AM - 01:00 PM PST :: johngroh\n",
      "Tue 26 01:00 PM - 05:00 PM PST :: Jon Kaufman\n",
      "Tue 26 05:00 PM - 09:00 PM PST :: David Leon\n",
      "Wed 20 09:00 AM - 01:00 PM PST :: Nate Stebor\n",
      "Wed 20 01:00 PM - 05:00 PM PST :: Yuji Chinone\n",
      "Wed 20 05:00 PM - 09:00 PM PST :: Kavon Kazemzadeh\n",
      "Thu 21 09:00 AM - 01:00 PM PST :: Frederick Matsuda\n",
      "Thu 21 01:00 PM - 05:00 PM PST :: Oliver Jeong\n",
      "Thu 21 05:00 PM - 09:00 PM PST :: yasuto\n",
      "Fri 22 09:00 AM - 01:00 PM PST :: Neil Goeckner-Wald\n",
      "Fri 22 01:00 PM - 05:00 PM PST :: Logan Howe\n",
      "Fri 22 05:00 PM - 09:00 PM PST :: Darcy Barron\n",
      "Sat 23 09:00 AM - 01:00 PM PST :: Aritoki Suzuki\n",
      "Sat 23 01:00 PM - 05:00 PM PST :: Charles Hill\n",
      "Sat 23 05:00 PM - 09:00 PM PST :: grant.teply\n",
      "Sun 24 09:00 AM - 01:00 PM PST :: Tucker Elleflot\n",
      "Sun 24 01:00 PM - 05:00 PM PST :: GregJaehnig\n",
      "Sun 24 05:00 PM - 09:00 PM PST :: Christian Reichardt\n",
      "\n"
     ]
    }
   ],
   "source": [
    "print sch"
   ]
  },
  {
   "cell_type": "code",
   "execution_count": 7,
   "metadata": {
    "collapsed": false,
    "scrolled": true
   },
   "outputs": [],
   "source": [
    "sch.publish()"
   ]
  },
  {
   "cell_type": "code",
   "execution_count": 15,
   "metadata": {
    "collapsed": false
   },
   "outputs": [
    {
     "data": {
      "text/plain": [
       "datetime.datetime(2016, 1, 25, 9, 0, tzinfo=<DstTzInfo 'America/Los_Angeles' PST-1 day, 16:00:00 STD>)"
      ]
     },
     "execution_count": 15,
     "metadata": {},
     "output_type": "execute_result"
    }
   ],
   "source": [
    "sch.shifts[0].start"
   ]
  },
  {
   "cell_type": "code",
   "execution_count": null,
   "metadata": {
    "collapsed": true
   },
   "outputs": [],
   "source": []
  }
 ],
 "metadata": {
  "kernelspec": {
   "display_name": "Python 2",
   "language": "python",
   "name": "python2"
  },
  "language_info": {
   "codemirror_mode": {
    "name": "ipython",
    "version": 2
   },
   "file_extension": ".py",
   "mimetype": "text/x-python",
   "name": "python",
   "nbconvert_exporter": "python",
   "pygments_lexer": "ipython2",
   "version": "2.7.9"
  }
 },
 "nbformat": 4,
 "nbformat_minor": 0
}
