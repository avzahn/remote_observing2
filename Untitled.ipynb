{
 "cells": [
  {
   "cell_type": "code",
   "execution_count": 1,
   "metadata": {
    "collapsed": false
   },
   "outputs": [],
   "source": [
    "from pacific import *\n",
    "import datetime\n",
    "import pytz"
   ]
  },
  {
   "cell_type": "code",
   "execution_count": 2,
   "metadata": {
    "collapsed": false,
    "scrolled": true
   },
   "outputs": [
    {
     "name": "stdout",
     "output_type": "stream",
     "text": [
      "auth code4/amCGMHKscyPznM7OGwJEEXshOyS75aidG489OJJwvQM\n"
     ]
    },
    {
     "name": "stderr",
     "output_type": "stream",
     "text": [
      "previous week: Frederick Matsuda, 10\n",
      "previous week: Praween, 10\n",
      "WEEKEND INELIGIBLE: Praween\n",
      "previous week: Darcy Barron, 25\n",
      "WEEKEND INELIGIBLE: Darcy Barron\n",
      "previous week: Logan Howe, 10\n",
      "previous week: Yuji Chinone, 10\n",
      "previous week: Charles Hill, 25\n",
      "WEEKEND INELIGIBLE: Charles Hill\n",
      "previous week: Tucker Elleflot, 25\n",
      "WEEKEND INELIGIBLE: Tucker Elleflot\n",
      "previous week: Kavon Kazemzadeh, 10\n",
      "previous week: GregJaehnig, 25\n",
      "WEEKEND INELIGIBLE: GregJaehnig\n",
      "previous week: Oliver Jeong, 10\n",
      "previous week: johngroh, 25\n",
      "WEEKEND INELIGIBLE: johngroh\n",
      "previous week: grant.teply, 10\n",
      "Shawn Beckman not found in handoff\n",
      "previous week: Christian Reichardt, 25\n",
      "WEEKEND INELIGIBLE: Christian Reichardt\n"
     ]
    }
   ],
   "source": [
    "start = pytz.timezone(\"America/Los_Angeles\").localize(datetime.datetime(year=2016,day=3,hour=9,month=2))\n",
    "sch = init_schedule(start)"
   ]
  },
  {
   "cell_type": "code",
   "execution_count": 3,
   "metadata": {
    "collapsed": false
   },
   "outputs": [
    {
     "name": "stdout",
     "output_type": "stream",
     "text": [
      "Marty Navaroli martynavaroli@gmail.com 60\n",
      "Frederick Matsuda takafure777@gmail.com 90\n",
      "Jon Kaufman j.p.a.kaufman@gmail.com 45\n",
      "Praween p.siritanasak@gmail.com 85\n",
      "\"Alex Zahn\" avzahn06@gmail.com 75\n",
      "Lindsay Lowry lindsay@nglowry.com 90\n",
      "Darcy Barron barrondarcy@gmail.com 55\n",
      "David Leon proof.by.contradiction@gmail.com 30\n",
      "Logan Howe leonidas.howe@gmail.com 40\n",
      "Josquin Errard josquin.errard@gmail.com 0\n",
      "Yuji Chinone chinoney@gmail.com 60\n",
      "Charles Hill charles.a.hill01@gmail.com 35\n",
      "Tucker Elleflot tuckerelleflot@gmail.com 60\n",
      "Aritoki Suzuki aritokisuzuki@gmail.com 35\n",
      "Kavon Kazemzadeh kavonkazem@gmail.com 55\n",
      "Nate Stebor nstebor@gmail.com 30\n",
      "KaoriHattori k.hatohato.hatt@gmail.com 70\n",
      "GregJaehnig gregjaehnig@gmail.com 140\n",
      "Ian Shirley ianshirley2114@gmail.com 50\n",
      "Neil Goeckner-Wald ngoecknerwald@berkeley.edu 70\n",
      "Oliver Jeong objeong@gmail.com 40\n",
      "Nathan Whitehorn nwhitehorn@berkeley.edu 25\n",
      "Ari ajcukierman@gmail.com 55\n",
      "johngroh johncgroh@gmail.com 55\n",
      "Kaja Rotermund kajarotermund@gmail.com 10\n",
      "grant.teply grant.teply@gmail.com 55\n",
      "Shawn Beckman s.beckman@berkeley.edu 0\n",
      "Christian Reichardt christian.reichardt@unimelb.edu.au 50\n"
     ]
    }
   ],
   "source": [
    "for o in sch.observers:\n",
    "    print o.name,o.email, o.karma"
   ]
  },
  {
   "cell_type": "code",
   "execution_count": 3,
   "metadata": {
    "collapsed": false
   },
   "outputs": [
    {
     "name": "stdout",
     "output_type": "stream",
     "text": [
      "Josquin Errard 0\n",
      "Shawn Beckman 0\n",
      "Kaja Rotermund 10\n",
      "Nathan Whitehorn 25\n",
      "David Leon 30\n",
      "Nate Stebor 30\n",
      "Charles Hill 35\n",
      "Aritoki Suzuki 35\n",
      "Logan Howe 40\n",
      "Oliver Jeong 40\n",
      "Jon Kaufman 45\n",
      "Ian Shirley 50\n",
      "Christian Reichardt 50\n",
      "Darcy Barron 55\n",
      "Kavon Kazemzadeh 55\n",
      "Ari 55\n",
      "johngroh 55\n",
      "grant.teply 55\n",
      "Marty Navaroli 60\n",
      "Yuji Chinone 60\n",
      "Tucker Elleflot 60\n",
      "KaoriHattori 70\n",
      "Neil Goeckner-Wald 70\n",
      "\"Alex Zahn\" 75\n",
      "Praween 85\n",
      "Frederick Matsuda 90\n",
      "Lindsay Lowry 90\n",
      "GregJaehnig 140\n"
     ]
    }
   ],
   "source": [
    "sch.schedule()"
   ]
  },
  {
   "cell_type": "code",
   "execution_count": 5,
   "metadata": {
    "collapsed": false,
    "scrolled": true
   },
   "outputs": [
    {
     "name": "stdout",
     "output_type": "stream",
     "text": [
      "Mon 08 09:00 AM - 01:00 PM PST :: Kaja Rotermund\n",
      "Mon 08 01:00 PM - 05:00 PM PST :: Charles Hill\n",
      "Mon 08 05:00 PM - 09:00 PM PST :: Ian Shirley\n",
      "Tue 09 09:00 AM - 01:00 PM PST :: Ari\n",
      "Tue 09 01:00 PM - 05:00 PM PST :: Jon Kaufman\n",
      "Tue 09 05:00 PM - 09:00 PM PST :: Christian Reichardt\n",
      "Wed 03 09:00 AM - 01:00 PM PST :: johngroh\n",
      "Wed 03 01:00 PM - 05:00 PM PST :: Kavon Kazemzadeh\n",
      "Wed 03 05:00 PM - 09:00 PM PST :: Yuji Chinone\n",
      "Thu 04 09:00 AM - 01:00 PM PST :: Marty Navaroli\n",
      "Thu 04 01:00 PM - 05:00 PM PST :: Neil Goeckner-Wald\n",
      "Thu 04 05:00 PM - 09:00 PM PST :: \"Alex Zahn\"\n",
      "Fri 05 09:00 AM - 01:00 PM PST :: Frederick Matsuda\n",
      "Fri 05 01:00 PM - 05:00 PM PST :: Tucker Elleflot\n",
      "Fri 05 05:00 PM - 09:00 PM PST :: Lindsay Lowry\n",
      "Sat 06 09:00 AM - 01:00 PM PST :: David Leon\n",
      "Sat 06 01:00 PM - 05:00 PM PST :: Aritoki Suzuki\n",
      "Sat 06 05:00 PM - 09:00 PM PST :: Logan Howe\n",
      "Sun 07 09:00 AM - 01:00 PM PST :: Nate Stebor\n",
      "Sun 07 01:00 PM - 05:00 PM PST :: Oliver Jeong\n",
      "Sun 07 05:00 PM - 09:00 PM PST :: grant.teply\n",
      "\n"
     ]
    }
   ],
   "source": [
    "print sch"
   ]
  },
  {
   "cell_type": "code",
   "execution_count": 4,
   "metadata": {
    "collapsed": false,
    "scrolled": true
   },
   "outputs": [],
   "source": [
    "sch.publish()"
   ]
  },
  {
   "cell_type": "code",
   "execution_count": 15,
   "metadata": {
    "collapsed": false
   },
   "outputs": [
    {
     "data": {
      "text/plain": [
       "datetime.datetime(2016, 1, 25, 9, 0, tzinfo=<DstTzInfo 'America/Los_Angeles' PST-1 day, 16:00:00 STD>)"
      ]
     },
     "execution_count": 15,
     "metadata": {},
     "output_type": "execute_result"
    }
   ],
   "source": [
    "sch.shifts[0].start"
   ]
  },
  {
   "cell_type": "code",
   "execution_count": 3,
   "metadata": {
    "collapsed": true
   },
   "outputs": [],
   "source": [
    "a = range(10)"
   ]
  },
  {
   "cell_type": "code",
   "execution_count": 4,
   "metadata": {
    "collapsed": false
   },
   "outputs": [
    {
     "data": {
      "text/plain": [
       "10"
      ]
     },
     "execution_count": 4,
     "metadata": {},
     "output_type": "execute_result"
    }
   ],
   "source": [
    "len(a)"
   ]
  },
  {
   "cell_type": "code",
   "execution_count": 5,
   "metadata": {
    "collapsed": false
   },
   "outputs": [
    {
     "data": {
      "text/plain": [
       "[0, 1, 2, 3, 4, 5, 6, 7, 8, 9]"
      ]
     },
     "execution_count": 5,
     "metadata": {},
     "output_type": "execute_result"
    }
   ],
   "source": [
    "a[-10:]"
   ]
  },
  {
   "cell_type": "code",
   "execution_count": null,
   "metadata": {
    "collapsed": true
   },
   "outputs": [],
   "source": []
  }
 ],
 "metadata": {
  "kernelspec": {
   "display_name": "Python 2",
   "language": "python",
   "name": "python2"
  },
  "language_info": {
   "codemirror_mode": {
    "name": "ipython",
    "version": 2
   },
   "file_extension": ".py",
   "mimetype": "text/x-python",
   "name": "python",
   "nbconvert_exporter": "python",
   "pygments_lexer": "ipython2",
   "version": "2.7.9"
  }
 },
 "nbformat": 4,
 "nbformat_minor": 0
}
