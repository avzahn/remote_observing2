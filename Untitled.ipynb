{
 "cells": [
  {
   "cell_type": "code",
   "execution_count": 2,
   "metadata": {
    "collapsed": false
   },
   "outputs": [],
   "source": [
    "from pacific import *\n",
    "import datetime\n",
    "import pytz"
   ]
  },
  {
   "cell_type": "code",
   "execution_count": 3,
   "metadata": {
    "collapsed": false,
    "scrolled": false
   },
   "outputs": [
    {
     "name": "stdout",
     "output_type": "stream",
     "text": [
      "auth code4/WjNBAbANpaVdgiS4HqzpoSWR848wC33oL7YeueyUbp4\n"
     ]
    },
    {
     "name": "stderr",
     "output_type": "stream",
     "text": [
      "Josquin Errard not found in handoff\n",
      "Aritoki Suzuki not found in handoff\n",
      "Nathan Whitehorn not found in handoff\n"
     ]
    }
   ],
   "source": [
    "start = pytz.timezone(\"America/Los_Angeles\").localize(datetime.datetime(year=2016,day=13,hour=9,month=1))\n",
    "sch = init_schedule(start)"
   ]
  },
  {
   "cell_type": "code",
   "execution_count": 4,
   "metadata": {
    "collapsed": false
   },
   "outputs": [
    {
     "name": "stdout",
     "output_type": "stream",
     "text": [
      "Mon 18 09:00 AM - 01:00 PM PST :: UNFILLED\n",
      "Mon 18 01:00 PM - 05:00 PM PST :: UNFILLED\n",
      "Mon 18 05:00 PM - 09:00 PM PST :: UNFILLED\n",
      "Tue 19 09:00 AM - 01:00 PM PST :: UNFILLED\n",
      "Tue 19 01:00 PM - 05:00 PM PST :: UNFILLED\n",
      "Tue 19 05:00 PM - 09:00 PM PST :: UNFILLED\n",
      "Wed 13 09:00 AM - 01:00 PM PST :: UNFILLED\n",
      "Wed 13 01:00 PM - 05:00 PM PST :: UNFILLED\n",
      "Wed 13 05:00 PM - 09:00 PM PST :: UNFILLED\n",
      "Thu 14 09:00 AM - 01:00 PM PST :: UNFILLED\n",
      "Thu 14 01:00 PM - 05:00 PM PST :: UNFILLED\n",
      "Thu 14 05:00 PM - 09:00 PM PST :: UNFILLED\n",
      "Fri 15 09:00 AM - 01:00 PM PST :: UNFILLED\n",
      "Fri 15 01:00 PM - 05:00 PM PST :: UNFILLED\n",
      "Fri 15 05:00 PM - 09:00 PM PST :: UNFILLED\n",
      "Sat 16 09:00 AM - 01:00 PM PST :: UNFILLED\n",
      "Sat 16 01:00 PM - 05:00 PM PST :: UNFILLED\n",
      "Sat 16 05:00 PM - 09:00 PM PST :: UNFILLED\n",
      "Sun 17 09:00 AM - 01:00 PM PST :: UNFILLED\n",
      "Sun 17 01:00 PM - 05:00 PM PST :: UNFILLED\n",
      "Sun 17 05:00 PM - 09:00 PM PST :: UNFILLED\n",
      "\n"
     ]
    }
   ],
   "source": [
    "print sch"
   ]
  },
  {
   "cell_type": "code",
   "execution_count": 7,
   "metadata": {
    "collapsed": false
   },
   "outputs": [
    {
     "data": {
      "text/plain": [
       "False"
      ]
     },
     "execution_count": 7,
     "metadata": {},
     "output_type": "execute_result"
    }
   ],
   "source": [
    "datetime.datetime.now() < datetime.datetime.now()"
   ]
  },
  {
   "cell_type": "code",
   "execution_count": 5,
   "metadata": {
    "collapsed": false
   },
   "outputs": [
    {
     "name": "stdout",
     "output_type": "stream",
     "text": [
      "Marty Navaroli 20\n",
      "Frederick Matsuda 65\n",
      "Jon Kaufman 45\n",
      "Praween 100\n",
      "\"Alex Zahn\" 125\n",
      "Lindsay Lowry 120\n",
      "Darcy Barron 100\n",
      "David Leon 50\n",
      "Logan Howe 80\n",
      "Yuji Chinone 50\n",
      "Charles Hill 25\n",
      "Tucker Elleflot 20\n",
      "Kavon Kazemzadeh 55\n",
      "Nate Stebor 45\n",
      "KaoriHattori 115\n",
      "GregJaehnig 45\n",
      "yasuto 70\n",
      "Ian Shirley 30\n",
      "Neil Goeckner-Wald 70\n",
      "Oliver Jeong 60\n",
      "Ari 175\n",
      "johngroh 30\n",
      "Kaja Rotermund 10\n",
      "grant.teply 50\n"
     ]
    }
   ],
   "source": [
    "for o in sch.observers:\n",
    "    print o.name, o.karma"
   ]
  },
  {
   "cell_type": "code",
   "execution_count": 6,
   "metadata": {
    "collapsed": false
   },
   "outputs": [
    {
     "data": {
      "text/plain": [
       "271"
      ]
     },
     "execution_count": 6,
     "metadata": {},
     "output_type": "execute_result"
    }
   ],
   "source": [
    "21+65+70+55+60"
   ]
  },
  {
   "cell_type": "code",
   "execution_count": 12,
   "metadata": {
    "collapsed": true
   },
   "outputs": [],
   "source": [
    "a = [2,1,3,4,7,0,9,2,4,5,7,1]"
   ]
  },
  {
   "cell_type": "code",
   "execution_count": 8,
   "metadata": {
    "collapsed": true
   },
   "outputs": [],
   "source": [
    "a.sort()"
   ]
  },
  {
   "cell_type": "code",
   "execution_count": 9,
   "metadata": {
    "collapsed": false
   },
   "outputs": [
    {
     "data": {
      "text/plain": [
       "[1, 2, 3]"
      ]
     },
     "execution_count": 9,
     "metadata": {},
     "output_type": "execute_result"
    }
   ],
   "source": [
    "a"
   ]
  },
  {
   "cell_type": "code",
   "execution_count": 13,
   "metadata": {
    "collapsed": false
   },
   "outputs": [
    {
     "data": {
      "text/plain": [
       "[11, 10, 9]"
      ]
     },
     "execution_count": 13,
     "metadata": {},
     "output_type": "execute_result"
    }
   ],
   "source": [
    "range(len(a)-1,len(a)-3-1,-1)"
   ]
  },
  {
   "cell_type": "code",
   "execution_count": null,
   "metadata": {
    "collapsed": true
   },
   "outputs": [],
   "source": []
  }
 ],
 "metadata": {
  "kernelspec": {
   "display_name": "Python 2",
   "language": "python",
   "name": "python2"
  },
  "language_info": {
   "codemirror_mode": {
    "name": "ipython",
    "version": 2
   },
   "file_extension": ".py",
   "mimetype": "text/x-python",
   "name": "python",
   "nbconvert_exporter": "python",
   "pygments_lexer": "ipython2",
   "version": "2.7.10"
  }
 },
 "nbformat": 4,
 "nbformat_minor": 0
}
