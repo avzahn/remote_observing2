{
 "cells": [
  {
   "cell_type": "code",
   "execution_count": 9,
   "metadata": {
    "collapsed": false
   },
   "outputs": [],
   "source": [
    "from pacific import *\n",
    "import datetime\n",
    "import pytz"
   ]
  },
  {
   "cell_type": "code",
   "execution_count": 10,
   "metadata": {
    "collapsed": false,
    "scrolled": true
   },
   "outputs": [
    {
     "name": "stdout",
     "output_type": "stream",
     "text": [
      "auth code4/eSu4un8oaTaRP6xIJWmLD1rudTMIVpV7qsA2Fdq5jjA\n"
     ]
    },
    {
     "name": "stderr",
     "output_type": "stream",
     "text": [
      "previous week: Marty Navaroli, 25\n",
      "WEEKEND INELIGIBLE: Marty Navaroli\n",
      "previous week: \"Alex Zahn\", 25\n",
      "WEEKEND INELIGIBLE: \"Alex Zahn\"\n",
      "previous week: Lindsay Lowry, 10\n",
      "previous week: Darcy Barron, 10\n",
      "previous week: Logan Howe, 25\n",
      "WEEKEND INELIGIBLE: Logan Howe\n",
      "Josquin Errard not found in handoff\n",
      "previous week: Tucker Elleflot, 25\n",
      "WEEKEND INELIGIBLE: Tucker Elleflot\n",
      "Aritoki Suzuki not found in handoff\n",
      "KaoriHattori not found in handoff\n",
      "previous week: GregJaehnig, 10\n",
      "previous week: Oliver Jeong, 25\n",
      "WEEKEND INELIGIBLE: Oliver Jeong\n",
      "previous week: Nathan Whitehorn, 10\n",
      "previous week: John Groh, 10\n",
      "previous week: Kaja Rotermund, 10\n",
      "previous week: grant.teply, 10\n",
      "WEEKEND INELIGIBLE: grant.teply\n"
     ]
    }
   ],
   "source": [
    "start = pytz.timezone(\"America/Los_Angeles\").localize(datetime.datetime(year=2016,day=20,hour=10,month=4))\n",
    "sch = init_schedule(start)"
   ]
  },
  {
   "cell_type": "code",
   "execution_count": 11,
   "metadata": {
    "collapsed": false
   },
   "outputs": [],
   "source": [
    "sch.schedule()"
   ]
  },
  {
   "cell_type": "code",
   "execution_count": 12,
   "metadata": {
    "collapsed": false,
    "scrolled": true
   },
   "outputs": [
    {
     "name": "stdout",
     "output_type": "stream",
     "text": [
      "Mon 25 10:00 AM - 02:00 PM PDT :: Ian Shirley\n",
      "Mon 25 02:00 PM - 06:00 PM PDT :: Kelsey Lund\n",
      "Mon 25 06:00 PM - 10:00 PM PDT :: Shawn Beckman\n",
      "Tue 26 10:00 AM - 02:00 PM PDT :: Logan Howe\n",
      "Tue 26 02:00 PM - 06:00 PM PDT :: Ari\n",
      "Tue 26 06:00 PM - 10:00 PM PDT :: grant.teply\n",
      "Wed 20 10:00 AM - 02:00 PM PDT :: Kaja Rotermund\n",
      "Wed 20 02:00 PM - 06:00 PM PDT :: Marty Navaroli\n",
      "Wed 20 06:00 PM - 10:00 PM PDT :: David Leon\n",
      "Thu 21 10:00 AM - 02:00 PM PDT :: Tucker Elleflot\n",
      "Thu 21 02:00 PM - 06:00 PM PDT :: Lindsay Lowry\n",
      "Thu 21 06:00 PM - 10:00 PM PDT :: John Groh\n",
      "Fri 22 10:00 AM - 02:00 PM PDT :: GregJaehnig\n",
      "Fri 22 02:00 PM - 06:00 PM PDT :: UNFILLED\n",
      "Fri 22 06:00 PM - 10:00 PM PDT :: UNFILLED\n",
      "Sat 23 10:00 AM - 02:00 PM PDT :: Aritoki Suzuki\n",
      "Sat 23 02:00 PM - 06:00 PM PDT :: Charles Hill\n",
      "Sat 23 06:00 PM - 10:00 PM PDT :: Praween\n",
      "Sun 24 10:00 AM - 02:00 PM PDT :: Nate Stebor\n",
      "Sun 24 02:00 PM - 06:00 PM PDT :: Neil Goeckner-Wald\n",
      "Sun 24 06:00 PM - 10:00 PM PDT :: Darcy Barron\n",
      "\n"
     ]
    }
   ],
   "source": [
    "print sch"
   ]
  },
  {
   "cell_type": "code",
   "execution_count": 13,
   "metadata": {
    "collapsed": false,
    "scrolled": true
   },
   "outputs": [],
   "source": [
    "sch.publish()"
   ]
  },
  {
   "cell_type": "code",
   "execution_count": 14,
   "metadata": {
    "collapsed": false
   },
   "outputs": [
    {
     "data": {
      "text/plain": [
       "u'C:\\\\cygwin64\\\\home\\\\alex\\\\remote_observing2'"
      ]
     },
     "execution_count": 14,
     "metadata": {},
     "output_type": "execute_result"
    }
   ],
   "source": [
    "pwd"
   ]
  },
  {
   "cell_type": "code",
   "execution_count": 6,
   "metadata": {
    "collapsed": false
   },
   "outputs": [
    {
     "name": "stdout",
     "output_type": "stream",
     "text": [
      "ianshirley2114@gmail.com\n",
      "ajcukierman@gmail.com\n",
      "s.beckman@berkeley.edu\n",
      "kelseylund17576@gmail.com\n",
      "ngoecknerwald@berkeley.edu\n",
      "objeong@gmail.com\n",
      "kajarotermund@gmail.com\n",
      "j.p.a.kaufman@gmail.com\n",
      "john.groh@berkeley.edu\n",
      "nstebor@gmail.com\n",
      "barrondarcy@gmail.com\n",
      "charles.a.hill01@gmail.com\n",
      "lindsay@nglowry.com\n",
      "avzahn06@gmail.com\n",
      "avzahn06@gmail.com\n",
      "aritokisuzuki@gmail.com\n",
      "leonidas.howe@gmail.com\n",
      "p.siritanasak@gmail.com\n",
      "kavonkazem@gmail.com\n",
      "proof.by.contradiction@gmail.com\n",
      "martynavaroli@gmail.com\n"
     ]
    }
   ],
   "source": [
    "for s in sch.shifts:\n",
    "    print s.observer.email"
   ]
  },
  {
   "cell_type": "code",
   "execution_count": null,
   "metadata": {
    "collapsed": true
   },
   "outputs": [],
   "source": []
  }
 ],
 "metadata": {
  "kernelspec": {
   "display_name": "Python 2",
   "language": "python",
   "name": "python2"
  },
  "language_info": {
   "codemirror_mode": {
    "name": "ipython",
    "version": 2
   },
   "file_extension": ".py",
   "mimetype": "text/x-python",
   "name": "python",
   "nbconvert_exporter": "python",
   "pygments_lexer": "ipython2",
   "version": "2.7.10"
  }
 },
 "nbformat": 4,
 "nbformat_minor": 0
}
